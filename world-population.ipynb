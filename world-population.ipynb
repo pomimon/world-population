{
 "cells": [
  {
   "cell_type": "code",
   "execution_count": 7,
   "id": "3a0e9141-76de-40fb-94f6-f48e4e049892",
   "metadata": {},
   "outputs": [],
   "source": [
    "import pandas as pd\n",
    "import numpy as np\n",
    "import plotly.express as px"
   ]
  },
  {
   "cell_type": "code",
   "execution_count": 2,
   "id": "bca68e22-d27b-40b7-8c76-c2c789bcffed",
   "metadata": {
    "scrolled": true
   },
   "outputs": [
    {
     "data": {
      "text/html": [
       "<div>\n",
       "<style scoped>\n",
       "    .dataframe tbody tr th:only-of-type {\n",
       "        vertical-align: middle;\n",
       "    }\n",
       "\n",
       "    .dataframe tbody tr th {\n",
       "        vertical-align: top;\n",
       "    }\n",
       "\n",
       "    .dataframe thead th {\n",
       "        text-align: right;\n",
       "    }\n",
       "</style>\n",
       "<table border=\"1\" class=\"dataframe\">\n",
       "  <thead>\n",
       "    <tr style=\"text-align: right;\">\n",
       "      <th></th>\n",
       "      <th>Rank</th>\n",
       "      <th>Country</th>\n",
       "      <th>Population (2024)</th>\n",
       "      <th>Yearly Change</th>\n",
       "      <th>Net Change</th>\n",
       "      <th>Density (P/Km²)</th>\n",
       "      <th>Land Area (Km²)</th>\n",
       "      <th>Migrants (net)</th>\n",
       "      <th>Fert. Rate</th>\n",
       "      <th>Med. Age</th>\n",
       "      <th>Urban Pop %</th>\n",
       "      <th>World Share</th>\n",
       "    </tr>\n",
       "  </thead>\n",
       "  <tbody>\n",
       "    <tr>\n",
       "      <th>0</th>\n",
       "      <td>1</td>\n",
       "      <td>India</td>\n",
       "      <td>1,450,935,791</td>\n",
       "      <td>0.89 %</td>\n",
       "      <td>12,866,195</td>\n",
       "      <td>488</td>\n",
       "      <td>2,973,190</td>\n",
       "      <td>-630,830</td>\n",
       "      <td>2.0</td>\n",
       "      <td>28</td>\n",
       "      <td>37 %</td>\n",
       "      <td>17.78 %</td>\n",
       "    </tr>\n",
       "    <tr>\n",
       "      <th>1</th>\n",
       "      <td>2</td>\n",
       "      <td>China</td>\n",
       "      <td>1,419,321,278</td>\n",
       "      <td>-0.23 %</td>\n",
       "      <td>-3,263,655</td>\n",
       "      <td>151</td>\n",
       "      <td>9,388,211</td>\n",
       "      <td>-318,992</td>\n",
       "      <td>1.0</td>\n",
       "      <td>40</td>\n",
       "      <td>66 %</td>\n",
       "      <td>17.39 %</td>\n",
       "    </tr>\n",
       "    <tr>\n",
       "      <th>2</th>\n",
       "      <td>3</td>\n",
       "      <td>United States</td>\n",
       "      <td>345,426,571</td>\n",
       "      <td>0.57 %</td>\n",
       "      <td>1,949,236</td>\n",
       "      <td>38</td>\n",
       "      <td>9,147,420</td>\n",
       "      <td>1,286,132</td>\n",
       "      <td>1.6</td>\n",
       "      <td>38</td>\n",
       "      <td>82 %</td>\n",
       "      <td>4.23 %</td>\n",
       "    </tr>\n",
       "    <tr>\n",
       "      <th>3</th>\n",
       "      <td>4</td>\n",
       "      <td>Indonesia</td>\n",
       "      <td>283,487,931</td>\n",
       "      <td>0.82 %</td>\n",
       "      <td>2,297,864</td>\n",
       "      <td>156</td>\n",
       "      <td>1,811,570</td>\n",
       "      <td>-38,469</td>\n",
       "      <td>2.1</td>\n",
       "      <td>30</td>\n",
       "      <td>59 %</td>\n",
       "      <td>3.47 %</td>\n",
       "    </tr>\n",
       "    <tr>\n",
       "      <th>4</th>\n",
       "      <td>5</td>\n",
       "      <td>Pakistan</td>\n",
       "      <td>251,269,164</td>\n",
       "      <td>1.52 %</td>\n",
       "      <td>3,764,669</td>\n",
       "      <td>326</td>\n",
       "      <td>770,880</td>\n",
       "      <td>-1,401,173</td>\n",
       "      <td>3.5</td>\n",
       "      <td>20</td>\n",
       "      <td>34 %</td>\n",
       "      <td>3.08 %</td>\n",
       "    </tr>\n",
       "  </tbody>\n",
       "</table>\n",
       "</div>"
      ],
      "text/plain": [
       "   Rank        Country Population (2024) Yearly Change  Net Change  \\\n",
       "0     1          India     1,450,935,791        0.89 %  12,866,195   \n",
       "1     2          China     1,419,321,278       -0.23 %  -3,263,655   \n",
       "2     3  United States       345,426,571        0.57 %   1,949,236   \n",
       "3     4      Indonesia       283,487,931        0.82 %   2,297,864   \n",
       "4     5       Pakistan       251,269,164        1.52 %   3,764,669   \n",
       "\n",
       "  Density (P/Km²) Land Area (Km²) Migrants (net)  Fert. Rate  Med. Age  \\\n",
       "0             488       2,973,190       -630,830         2.0        28   \n",
       "1             151       9,388,211       -318,992         1.0        40   \n",
       "2              38       9,147,420      1,286,132         1.6        38   \n",
       "3             156       1,811,570        -38,469         2.1        30   \n",
       "4             326         770,880     -1,401,173         3.5        20   \n",
       "\n",
       "  Urban Pop % World Share  \n",
       "0        37 %     17.78 %  \n",
       "1        66 %     17.39 %  \n",
       "2        82 %      4.23 %  \n",
       "3        59 %      3.47 %  \n",
       "4        34 %      3.08 %  "
      ]
     },
     "execution_count": 2,
     "metadata": {},
     "output_type": "execute_result"
    }
   ],
   "source": [
    "wpData = pd.read_csv('world-population-data.csv', na_values=' ')\n",
    "wpData.head(5)"
   ]
  },
  {
   "cell_type": "code",
   "execution_count": 3,
   "id": "2929ed92-0cfb-4adb-ba33-e18e43233faf",
   "metadata": {},
   "outputs": [
    {
     "data": {
      "text/plain": [
       "np.int64(0)"
      ]
     },
     "execution_count": 3,
     "metadata": {},
     "output_type": "execute_result"
    }
   ],
   "source": [
    "wpData.duplicated().sum()"
   ]
  },
  {
   "cell_type": "markdown",
   "id": "ae8bf8a0-5c76-4e6c-8647-55d1ddba5211",
   "metadata": {},
   "source": [
    "### Convert Dtypes to the proper types"
   ]
  },
  {
   "cell_type": "code",
   "execution_count": 4,
   "id": "dc247837-9284-4cf2-8a58-f2f332813c12",
   "metadata": {},
   "outputs": [
    {
     "name": "stdout",
     "output_type": "stream",
     "text": [
      "<class 'pandas.core.frame.DataFrame'>\n",
      "RangeIndex: 234 entries, 0 to 233\n",
      "Data columns (total 12 columns):\n",
      " #   Column             Non-Null Count  Dtype  \n",
      "---  ------             --------------  -----  \n",
      " 0   Rank               234 non-null    int64  \n",
      " 1   Country            234 non-null    object \n",
      " 2   Population (2024)  234 non-null    int64  \n",
      " 3   Yearly Change      234 non-null    float64\n",
      " 4   Net Change         234 non-null    int64  \n",
      " 5   Density (P/Km²)    234 non-null    int64  \n",
      " 6   Land Area (Km²)    234 non-null    int64  \n",
      " 7   Migrants (net)     234 non-null    int64  \n",
      " 8   Fert. Rate         234 non-null    float64\n",
      " 9   Med. Age           234 non-null    int64  \n",
      " 10  Urban Pop %        216 non-null    float64\n",
      " 11  World Share        234 non-null    float64\n",
      "dtypes: float64(4), int64(7), object(1)\n",
      "memory usage: 22.1+ KB\n"
     ]
    },
    {
     "data": {
      "text/html": [
       "<div>\n",
       "<style scoped>\n",
       "    .dataframe tbody tr th:only-of-type {\n",
       "        vertical-align: middle;\n",
       "    }\n",
       "\n",
       "    .dataframe tbody tr th {\n",
       "        vertical-align: top;\n",
       "    }\n",
       "\n",
       "    .dataframe thead th {\n",
       "        text-align: right;\n",
       "    }\n",
       "</style>\n",
       "<table border=\"1\" class=\"dataframe\">\n",
       "  <thead>\n",
       "    <tr style=\"text-align: right;\">\n",
       "      <th></th>\n",
       "      <th>Rank</th>\n",
       "      <th>Country</th>\n",
       "      <th>Population (2024)</th>\n",
       "      <th>Yearly Change</th>\n",
       "      <th>Net Change</th>\n",
       "      <th>Density (P/Km²)</th>\n",
       "      <th>Land Area (Km²)</th>\n",
       "      <th>Migrants (net)</th>\n",
       "      <th>Fert. Rate</th>\n",
       "      <th>Med. Age</th>\n",
       "      <th>Urban Pop %</th>\n",
       "      <th>World Share</th>\n",
       "    </tr>\n",
       "  </thead>\n",
       "  <tbody>\n",
       "    <tr>\n",
       "      <th>0</th>\n",
       "      <td>1</td>\n",
       "      <td>India</td>\n",
       "      <td>1450935791</td>\n",
       "      <td>0.89</td>\n",
       "      <td>12866195</td>\n",
       "      <td>488</td>\n",
       "      <td>2973190</td>\n",
       "      <td>-630830</td>\n",
       "      <td>2.0</td>\n",
       "      <td>28</td>\n",
       "      <td>37.0</td>\n",
       "      <td>17.78</td>\n",
       "    </tr>\n",
       "    <tr>\n",
       "      <th>1</th>\n",
       "      <td>2</td>\n",
       "      <td>China</td>\n",
       "      <td>1419321278</td>\n",
       "      <td>-0.23</td>\n",
       "      <td>-3263655</td>\n",
       "      <td>151</td>\n",
       "      <td>9388211</td>\n",
       "      <td>-318992</td>\n",
       "      <td>1.0</td>\n",
       "      <td>40</td>\n",
       "      <td>66.0</td>\n",
       "      <td>17.39</td>\n",
       "    </tr>\n",
       "    <tr>\n",
       "      <th>2</th>\n",
       "      <td>3</td>\n",
       "      <td>United States</td>\n",
       "      <td>345426571</td>\n",
       "      <td>0.57</td>\n",
       "      <td>1949236</td>\n",
       "      <td>38</td>\n",
       "      <td>9147420</td>\n",
       "      <td>1286132</td>\n",
       "      <td>1.6</td>\n",
       "      <td>38</td>\n",
       "      <td>82.0</td>\n",
       "      <td>4.23</td>\n",
       "    </tr>\n",
       "    <tr>\n",
       "      <th>3</th>\n",
       "      <td>4</td>\n",
       "      <td>Indonesia</td>\n",
       "      <td>283487931</td>\n",
       "      <td>0.82</td>\n",
       "      <td>2297864</td>\n",
       "      <td>156</td>\n",
       "      <td>1811570</td>\n",
       "      <td>-38469</td>\n",
       "      <td>2.1</td>\n",
       "      <td>30</td>\n",
       "      <td>59.0</td>\n",
       "      <td>3.47</td>\n",
       "    </tr>\n",
       "    <tr>\n",
       "      <th>4</th>\n",
       "      <td>5</td>\n",
       "      <td>Pakistan</td>\n",
       "      <td>251269164</td>\n",
       "      <td>1.52</td>\n",
       "      <td>3764669</td>\n",
       "      <td>326</td>\n",
       "      <td>770880</td>\n",
       "      <td>-1401173</td>\n",
       "      <td>3.5</td>\n",
       "      <td>20</td>\n",
       "      <td>34.0</td>\n",
       "      <td>3.08</td>\n",
       "    </tr>\n",
       "  </tbody>\n",
       "</table>\n",
       "</div>"
      ],
      "text/plain": [
       "   Rank        Country  Population (2024)  Yearly Change  Net Change  \\\n",
       "0     1          India         1450935791           0.89    12866195   \n",
       "1     2          China         1419321278          -0.23    -3263655   \n",
       "2     3  United States          345426571           0.57     1949236   \n",
       "3     4      Indonesia          283487931           0.82     2297864   \n",
       "4     5       Pakistan          251269164           1.52     3764669   \n",
       "\n",
       "   Density (P/Km²)  Land Area (Km²)  Migrants (net)  Fert. Rate  Med. Age  \\\n",
       "0              488          2973190         -630830         2.0        28   \n",
       "1              151          9388211         -318992         1.0        40   \n",
       "2               38          9147420         1286132         1.6        38   \n",
       "3              156          1811570          -38469         2.1        30   \n",
       "4              326           770880        -1401173         3.5        20   \n",
       "\n",
       "   Urban Pop %  World Share  \n",
       "0         37.0        17.78  \n",
       "1         66.0        17.39  \n",
       "2         82.0         4.23  \n",
       "3         59.0         3.47  \n",
       "4         34.0         3.08  "
      ]
     },
     "execution_count": 4,
     "metadata": {},
     "output_type": "execute_result"
    }
   ],
   "source": [
    "wpData['Country'] = wpData['Country'].astype(str)\n",
    "wpData['Population (2024)'] = wpData['Population (2024)'].astype(str).str.replace(',', '').astype(int)\n",
    "wpData['Yearly Change'] = wpData['Yearly Change'].astype(str).str.replace('%', '').astype(float)\n",
    "wpData['Net Change'] = wpData['Net Change'].astype(str).str.replace(',', '').astype(int)\n",
    "wpData['Density (P/Km²)'] = wpData['Density (P/Km²)'].astype(str).str.replace(',', '').astype(int)\n",
    "wpData['Land Area (Km²)'] = wpData['Land Area (Km²)'].astype(str).str.replace(',', '').astype(int)\n",
    "wpData['Migrants (net)'] = wpData['Migrants (net)'].astype(str).str.replace(',', '').astype(int)\n",
    "wpData['Urban Pop %'] = wpData['Urban Pop %'].astype(str).str.replace('%', '').apply(pd.to_numeric, errors='coerce')\n",
    "wpData['World Share'] = wpData['World Share'].astype(str).str.replace('%', '').astype(float)\n",
    "wpData.info()\n",
    "wpData.head()"
   ]
  },
  {
   "cell_type": "markdown",
   "id": "4e8cd534-1566-4887-bb21-c94f21feec54",
   "metadata": {},
   "source": [
    "## Which country had the lowest yearly change in population? Saint Martin with -5.04% with a change of -1386 people"
   ]
  },
  {
   "cell_type": "code",
   "execution_count": 9,
   "id": "588ffe26-a014-43b4-bd5b-bca2093b7232",
   "metadata": {},
   "outputs": [
    {
     "ename": "NameError",
     "evalue": "name 'plt' is not defined",
     "output_type": "error",
     "traceback": [
      "\u001b[0;31m---------------------------------------------------------------------------\u001b[0m",
      "\u001b[0;31mNameError\u001b[0m                                 Traceback (most recent call last)",
      "Cell \u001b[0;32mIn[9], line 7\u001b[0m\n\u001b[1;32m      4\u001b[0m pos_df \u001b[38;5;241m=\u001b[39m all_df\u001b[38;5;241m.\u001b[39mhead(count)\n\u001b[1;32m      5\u001b[0m neg_df \u001b[38;5;241m=\u001b[39m all_df\u001b[38;5;241m.\u001b[39mtail(count)\n\u001b[0;32m----> 7\u001b[0m fig, ax \u001b[38;5;241m=\u001b[39m \u001b[43mplt\u001b[49m\u001b[38;5;241m.\u001b[39msubplots()\n\u001b[1;32m      9\u001b[0m pos_bars \u001b[38;5;241m=\u001b[39m ax\u001b[38;5;241m.\u001b[39mbarh(pos_df[\u001b[38;5;124m'\u001b[39m\u001b[38;5;124mCountry\u001b[39m\u001b[38;5;124m'\u001b[39m], pos_df[\u001b[38;5;124m'\u001b[39m\u001b[38;5;124mYearly Change\u001b[39m\u001b[38;5;124m'\u001b[39m], color\u001b[38;5;241m=\u001b[39m\u001b[38;5;124m'\u001b[39m\u001b[38;5;124m#b8e0d4\u001b[39m\u001b[38;5;124m'\u001b[39m)\n\u001b[1;32m     10\u001b[0m neg_bars \u001b[38;5;241m=\u001b[39m ax\u001b[38;5;241m.\u001b[39mbarh(neg_df[\u001b[38;5;124m'\u001b[39m\u001b[38;5;124mCountry\u001b[39m\u001b[38;5;124m'\u001b[39m], neg_df[\u001b[38;5;124m'\u001b[39m\u001b[38;5;124mYearly Change\u001b[39m\u001b[38;5;124m'\u001b[39m], color\u001b[38;5;241m=\u001b[39m\u001b[38;5;124m'\u001b[39m\u001b[38;5;124m#fb6f92\u001b[39m\u001b[38;5;124m'\u001b[39m)\n",
      "\u001b[0;31mNameError\u001b[0m: name 'plt' is not defined"
     ]
    }
   ],
   "source": [
    "count = 8\n",
    "\n",
    "all_df = wpData.sort_values('Yearly Change', ascending=False)\n",
    "pos_df = all_df.head(count)\n",
    "neg_df = all_df.tail(count)\n",
    "\n",
    "fig, ax = plt.subplots()\n",
    "\n",
    "pos_bars = ax.barh(pos_df['Country'], pos_df['Yearly Change'], color='#b8e0d4')\n",
    "neg_bars = ax.barh(neg_df['Country'], neg_df['Yearly Change'], color='#fb6f92')\n",
    "\n",
    "ax.bar_label(pos_bars, labels=pos_df['Net Change'], label_type='center')\n",
    "ax.bar_label(neg_bars, labels=neg_df['Net Change'], label_type='center')\n",
    "\n",
    "ax.invert_yaxis()"
   ]
  },
  {
   "cell_type": "markdown",
   "id": "be01ac59-654d-4856-8b2d-f077cc22f44a",
   "metadata": {},
   "source": [
    "### Which country had the highest yearly change in population? Chad with 5.07% with a change of 980,059 people"
   ]
  },
  {
   "cell_type": "code",
   "execution_count": null,
   "id": "cea88178-824d-4b22-8026-401c6492a52a",
   "metadata": {},
   "outputs": [],
   "source": [
    "wpData.sort_values('Yearly Change', ascending=False).head(5)"
   ]
  },
  {
   "cell_type": "markdown",
   "id": "8a2ad182-995a-4349-99f7-7b6c421fa0df",
   "metadata": {},
   "source": [
    "### Which country has the highest population density per square kilometer? Monaco with 25,927 people per square km"
   ]
  },
  {
   "cell_type": "code",
   "execution_count": null,
   "id": "e98412f0-079e-4584-ab39-02b109841311",
   "metadata": {},
   "outputs": [],
   "source": [
    "wpData.sort_values('Density (P/Km²)', ascending=False).head(5)"
   ]
  },
  {
   "cell_type": "markdown",
   "id": "eccd7ca3-f55b-42b4-8906-3005216e95eb",
   "metadata": {},
   "source": [
    "### Which country has the highest level of immigration? USA with 1,286,132 migrants"
   ]
  },
  {
   "cell_type": "code",
   "execution_count": null,
   "id": "5368d5b7-c954-453e-b333-4069b01e6364",
   "metadata": {},
   "outputs": [],
   "source": [
    "wpData.sort_values('Migrants (net)', ascending=False).head(5)\n",
    "\n"
   ]
  },
  {
   "cell_type": "markdown",
   "id": "9d8f5023-5c3d-4e49-8a32-7c7193f5ea5f",
   "metadata": {},
   "source": [
    "### Which country has the lowest level of emigration? Pakistan with -1,401,173 "
   ]
  },
  {
   "cell_type": "code",
   "execution_count": null,
   "id": "6b6b9488-a913-4fb6-9757-d8b5f2e17aef",
   "metadata": {},
   "outputs": [],
   "source": [
    "wpData.sort_values('Migrants (net)', ascending=True).head(5)"
   ]
  }
 ],
 "metadata": {
  "kernelspec": {
   "display_name": "Python 3 (ipykernel)",
   "language": "python",
   "name": "python3"
  },
  "language_info": {
   "codemirror_mode": {
    "name": "ipython",
    "version": 3
   },
   "file_extension": ".py",
   "mimetype": "text/x-python",
   "name": "python",
   "nbconvert_exporter": "python",
   "pygments_lexer": "ipython3",
   "version": "3.13.1"
  }
 },
 "nbformat": 4,
 "nbformat_minor": 5
}
